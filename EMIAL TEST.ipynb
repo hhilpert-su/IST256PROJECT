{
 "cells": [
  {
   "cell_type": "code",
   "execution_count": 1,
   "metadata": {},
   "outputs": [],
   "source": [
    "import smtplib"
   ]
  },
  {
   "cell_type": "code",
   "execution_count": null,
   "metadata": {},
   "outputs": [],
   "source": [
    "import smtplib\n",
    "\n",
    "content = \"Example Email Here\"\n",
    "\n",
    "mail = smtplib.SMTP(\"smtp.gmail.com\",587)\n",
    "\n",
    "mail.helo()\n",
    "\n",
    "mail.starttls()\n",
    "\n",
    "mail.login(\"michaellarkin1998@gmail.com\",\"littlelarkin12\")\n",
    "\n",
    "mail.sendmail(\"michaellarkin1998@gmail.com\",\"reciever\",content)\n",
    "\n",
    "mail.close"
   ]
  }
 ],
 "metadata": {
  "kernelspec": {
   "display_name": "Python 3",
   "language": "python",
   "name": "python3"
  },
  "language_info": {
   "codemirror_mode": {
    "name": "ipython",
    "version": 3
   },
   "file_extension": ".py",
   "mimetype": "text/x-python",
   "name": "python",
   "nbconvert_exporter": "python",
   "pygments_lexer": "ipython3",
   "version": "3.6.6"
  }
 },
 "nbformat": 4,
 "nbformat_minor": 2
}
