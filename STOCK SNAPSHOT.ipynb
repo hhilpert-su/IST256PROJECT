{
 "cells": [
  {
   "cell_type": "markdown",
   "metadata": {},
   "source": [
    "# PROVIDING HIDDEN FINANCIAL INFORMATION TO EVERYONE\n",
    "\n",
    "### STRUCTURE OF THIS NOTEBOOK:\n",
    "\n",
    "- In the first few kernels, you will see packages, APIs, modules, and other resources\n",
    "- In the middle of this notebook, you will see funciton definitions to encourae a modular programming environment\n",
    "- At the end, you can see the completed program using all functions created earlier"
   ]
  },
  {
   "cell_type": "code",
   "execution_count": 1,
   "metadata": {
    "collapsed": true
   },
   "outputs": [
    {
     "name": "stdout",
     "output_type": "stream",
     "text": [
      "Requirement already satisfied: pandas-datareader in c:\\users\\hhilp\\appdata\\local\\programs\\python\\python36\\lib\\site-packages (0.7.0)\n",
      "Requirement already satisfied: pandas>=0.19.2 in c:\\users\\hhilp\\appdata\\local\\programs\\python\\python36\\lib\\site-packages (from pandas-datareader) (0.24.2)\n",
      "Requirement already satisfied: requests>=2.3.0 in c:\\users\\hhilp\\appdata\\local\\programs\\python\\python36\\lib\\site-packages (from pandas-datareader) (2.19.1)\n",
      "Requirement already satisfied: wrapt in c:\\users\\hhilp\\appdata\\local\\programs\\python\\python36\\lib\\site-packages (from pandas-datareader) (1.11.1)\n",
      "Requirement already satisfied: lxml in c:\\users\\hhilp\\appdata\\local\\programs\\python\\python36\\lib\\site-packages (from pandas-datareader) (4.3.0)\n",
      "Requirement already satisfied: pytz>=2011k in c:\\users\\hhilp\\appdata\\local\\programs\\python\\python36\\lib\\site-packages (from pandas>=0.19.2->pandas-datareader) (2018.9)\n",
      "Requirement already satisfied: numpy>=1.12.0 in c:\\users\\hhilp\\appdata\\local\\programs\\python\\python36\\lib\\site-packages (from pandas>=0.19.2->pandas-datareader) (1.16.0)\n",
      "Requirement already satisfied: python-dateutil>=2.5.0 in c:\\users\\hhilp\\appdata\\local\\programs\\python\\python36\\lib\\site-packages (from pandas>=0.19.2->pandas-datareader) (2.7.5)\n",
      "Requirement already satisfied: idna<2.8,>=2.5 in c:\\users\\hhilp\\appdata\\local\\programs\\python\\python36\\lib\\site-packages (from requests>=2.3.0->pandas-datareader) (2.7)\n",
      "Requirement already satisfied: urllib3<1.24,>=1.21.1 in c:\\users\\hhilp\\appdata\\local\\programs\\python\\python36\\lib\\site-packages (from requests>=2.3.0->pandas-datareader) (1.23)\n",
      "Requirement already satisfied: certifi>=2017.4.17 in c:\\users\\hhilp\\appdata\\local\\programs\\python\\python36\\lib\\site-packages (from requests>=2.3.0->pandas-datareader) (2018.11.29)\n",
      "Requirement already satisfied: chardet<3.1.0,>=3.0.2 in c:\\users\\hhilp\\appdata\\local\\programs\\python\\python36\\lib\\site-packages (from requests>=2.3.0->pandas-datareader) (3.0.4)\n",
      "Requirement already satisfied: six>=1.5 in c:\\users\\hhilp\\appdata\\local\\programs\\python\\python36\\lib\\site-packages (from python-dateutil>=2.5.0->pandas>=0.19.2->pandas-datareader) (1.12.0)\n"
     ]
    }
   ],
   "source": [
    "'''\n",
    "IMPORTING DATA USING PANDAS-DATAREADER PACKAGE\n",
    "'''\n",
    "\n",
    "# INSTALL LATEST VERSION OF PANDAS DATA READER PACKAGE\n",
    "! pip install pandas-datareader\n",
    "\n",
    "# IMPORT INSTALLED PACKAGE\n",
    "import pandas_datareader as pdr\n",
    "\n",
    "# IMPORT DATETIME MODULE\n",
    "import datetime\n",
    "\n",
    "# NOTE: OUTPUT EXISTS, BUT WAS COLLAPSED TO SUPPORT READABILITY"
   ]
  },
  {
   "cell_type": "code",
   "execution_count": 2,
   "metadata": {
    "collapsed": true
   },
   "outputs": [
    {
     "name": "stdout",
     "output_type": "stream",
     "text": [
      "                 High        Low       Open      Close       Volume  Adj Close\n",
      "Date                                                                          \n",
      "2014-05-06  15.030000  14.720000  15.030000  14.730000   96268300.0  13.688885\n",
      "2014-05-07  14.920000  14.750000  14.860000  14.800000   91733000.0  13.753938\n",
      "2014-05-08  15.040000  14.800000  14.850000  14.930000   65232700.0  13.874751\n",
      "2014-05-09  14.990000  14.670000  14.950000  14.740000   86751600.0  13.698177\n",
      "2014-05-12  15.100000  14.790000  14.790000  15.070000   70669900.0  14.004853\n",
      "2014-05-13  15.100000  14.940000  15.040000  15.030000   58469100.0  13.967680\n",
      "2014-05-14  15.020000  14.810000  14.990000  14.840000   52431900.0  13.791112\n",
      "2014-05-15  14.830000  14.390000  14.820000  14.550000  104193000.0  13.521605\n",
      "2014-05-16  14.540000  14.370000  14.510000  14.510000   80476100.0  13.484436\n",
      "2014-05-19  14.700000  14.380000  14.430000  14.670000   51034700.0  13.633124\n",
      "2014-05-20  14.690000  14.480000  14.650000  14.530000   60108200.0  13.503021\n",
      "2014-05-21  14.710000  14.500000  14.590000  14.610000   64808600.0  13.577367\n",
      "2014-05-22  14.720000  14.550000  14.580000  14.710000   51929400.0  13.670298\n",
      "2014-05-23  14.810000  14.650000  14.710000  14.720000   51648900.0  13.679590\n",
      "2014-05-27  15.310000  14.980000  15.000000  15.220000  125398900.0  14.144252\n",
      "2014-05-28  15.280000  15.030000  15.270000  15.140000   72481700.0  14.069903\n",
      "2014-05-29  15.210000  15.100000  15.120000  15.150000   39423000.0  14.079198\n",
      "2014-05-30  15.230000  15.070000  15.120000  15.140000   45787100.0  14.069903\n",
      "2014-06-02  15.280000  15.050000  15.160000  15.260000   46374000.0  14.181424\n",
      "2014-06-03  15.280000  15.110000  15.200000  15.210000   49025400.0  14.134958\n",
      "2014-06-04  15.260000  15.150000  15.190000  15.210000   39757300.0  14.134958\n",
      "2014-06-05  15.480000  15.220000  15.280000  15.430000   60300500.0  14.339408\n",
      "2014-06-06  15.650000  15.430000  15.450000  15.590000   73930500.0  14.488100\n",
      "2014-06-09  15.880000  15.600000  15.600000  15.840000   78647900.0  14.720428\n",
      "2014-06-10  15.940000  15.730000  15.780000  15.920000   49852900.0  14.794776\n",
      "2014-06-11  15.820000  15.550000  15.690000  15.590000   73729300.0  14.488100\n",
      "2014-06-12  15.660000  15.380000  15.570000  15.420000   66173200.0  14.330116\n",
      "2014-06-13  15.550000  15.330000  15.460000  15.440000   61588100.0  14.348701\n",
      "2014-06-16  15.310000  15.180000  15.300000  15.280000   55425400.0  14.200011\n",
      "2014-06-17  15.620000  15.260000  15.270000  15.590000   58011600.0  14.488100\n",
      "...               ...        ...        ...        ...          ...        ...\n",
      "2019-03-25  27.379999  26.610001  26.910000  26.840000   65568000.0  26.840000\n",
      "2019-03-26  27.350000  26.879999  27.150000  27.209999   59878500.0  27.209999\n",
      "2019-03-27  27.370001  26.950001  27.090000  27.030001   57621700.0  27.030001\n",
      "2019-03-28  27.410000  27.020000  27.200001  27.330000   45872300.0  27.330000\n",
      "2019-03-29  27.680000  27.299999  27.549999  27.590000   83446300.0  27.590000\n",
      "2019-04-01  28.740000  27.850000  27.900000  28.540001   91751100.0  28.540001\n",
      "2019-04-02  28.870001  28.350000  28.469999  28.870001   66694000.0  28.870001\n",
      "2019-04-03  29.240000  28.700001  29.070000  28.840000   63110600.0  28.840000\n",
      "2019-04-04  29.309999  28.840000  28.850000  29.150000   53712100.0  29.150000\n",
      "2019-04-05  29.500000  28.980000  29.320000  29.080000   46383400.0  29.080000\n",
      "2019-04-08  29.200001  28.870001  28.889999  29.170000   35272800.0  29.170000\n",
      "2019-04-09  29.070000  28.740000  29.000000  28.889999   40535300.0  28.889999\n",
      "2019-04-10  29.150000  28.750000  28.900000  29.070000   42669700.0  29.070000\n",
      "2019-04-11  29.490000  28.990000  29.250000  29.070000   50440100.0  29.070000\n",
      "2019-04-12  30.219999  29.559999  29.559999  30.170000  100192000.0  30.170000\n",
      "2019-04-15  30.139999  29.660000  30.100000  29.840000   57438800.0  29.840000\n",
      "2019-04-16  30.049999  29.000000  29.299999  29.879999  105168400.0  29.879999\n",
      "2019-04-17  30.120001  29.459999  29.830000  30.030001   94831600.0  30.030001\n",
      "2019-04-18  30.160000  29.820000  29.950001  30.030001   61796600.0  30.030001\n",
      "2019-04-22  30.100000  29.780001  29.930000  30.049999   34763400.0  30.049999\n",
      "2019-04-23  30.209999  29.920000  29.990000  30.070000   41889700.0  30.070000\n",
      "2019-04-24  30.170000  29.850000  29.950001  30.020000   40078100.0  30.020000\n",
      "2019-04-25  30.320000  29.900000  29.910000  30.080000   43243800.0  30.080000\n",
      "2019-04-26  30.389999  30.049999  30.170000  30.350000   40627500.0  30.350000\n",
      "2019-04-29  31.170000  30.410000  30.430000  30.770000   68408600.0  30.770000\n",
      "2019-04-30  30.879999  30.410000  30.799999  30.580000   47764200.0  30.580000\n",
      "2019-05-01  30.889999  30.180000  30.559999  30.260000   56161000.0  30.260000\n",
      "2019-05-02  30.559999  30.150000  30.260000  30.500000   40634100.0  30.500000\n",
      "2019-05-03  30.799999  30.500000  30.660000  30.709999   35256100.0  30.709999\n",
      "2019-05-06  30.610001  30.070000  30.110001  30.469999   39852100.0  30.469999\n",
      "\n",
      "[1259 rows x 6 columns]\n"
     ]
    }
   ],
   "source": [
    "'''\n",
    "TEST: IMPORTING DATA USING PANDAS-DATAREADER PACKAGE\n",
    "'''\n",
    "\n",
    "stock = pdr.get_data_yahoo('BAC', start = datetime.datetime(2014, 5, 6), end = datetime.datetime(2019, 5, 6))\n",
    "print(stock)\n",
    "\n",
    "# NOTE: OUTPUT EXISTS, BUT WAS COLLAPSED TO SUPPORT READABILITY"
   ]
  },
  {
   "cell_type": "code",
   "execution_count": 3,
   "metadata": {
    "collapsed": true
   },
   "outputs": [
    {
     "name": "stdout",
     "output_type": "stream",
     "text": [
      "Requirement already satisfied: fix_yahoo_finance in c:\\users\\hhilp\\appdata\\local\\programs\\python\\python36\\lib\\site-packages (0.1.33)\n",
      "Requirement already satisfied: requests<2.20 in c:\\users\\hhilp\\appdata\\local\\programs\\python\\python36\\lib\\site-packages (from fix_yahoo_finance) (2.19.1)\n",
      "Requirement already satisfied: multitasking>=0.0.7 in c:\\users\\hhilp\\appdata\\local\\programs\\python\\python36\\lib\\site-packages (from fix_yahoo_finance) (0.0.7)\n",
      "Requirement already satisfied: pandas>=0.24 in c:\\users\\hhilp\\appdata\\local\\programs\\python\\python36\\lib\\site-packages (from fix_yahoo_finance) (0.24.2)\n",
      "Requirement already satisfied: numpy>1.15 in c:\\users\\hhilp\\appdata\\local\\programs\\python\\python36\\lib\\site-packages (from fix_yahoo_finance) (1.16.0)\n",
      "Requirement already satisfied: urllib3<1.24,>=1.21.1 in c:\\users\\hhilp\\appdata\\local\\programs\\python\\python36\\lib\\site-packages (from requests<2.20->fix_yahoo_finance) (1.23)\n",
      "Requirement already satisfied: chardet<3.1.0,>=3.0.2 in c:\\users\\hhilp\\appdata\\local\\programs\\python\\python36\\lib\\site-packages (from requests<2.20->fix_yahoo_finance) (3.0.4)\n",
      "Requirement already satisfied: certifi>=2017.4.17 in c:\\users\\hhilp\\appdata\\local\\programs\\python\\python36\\lib\\site-packages (from requests<2.20->fix_yahoo_finance) (2018.11.29)\n",
      "Requirement already satisfied: idna<2.8,>=2.5 in c:\\users\\hhilp\\appdata\\local\\programs\\python\\python36\\lib\\site-packages (from requests<2.20->fix_yahoo_finance) (2.7)\n",
      "Requirement already satisfied: python-dateutil>=2.5.0 in c:\\users\\hhilp\\appdata\\local\\programs\\python\\python36\\lib\\site-packages (from pandas>=0.24->fix_yahoo_finance) (2.7.5)\n",
      "Requirement already satisfied: pytz>=2011k in c:\\users\\hhilp\\appdata\\local\\programs\\python\\python36\\lib\\site-packages (from pandas>=0.24->fix_yahoo_finance) (2018.9)\n",
      "Requirement already satisfied: six>=1.5 in c:\\users\\hhilp\\appdata\\local\\programs\\python\\python36\\lib\\site-packages (from python-dateutil>=2.5.0->pandas>=0.24->fix_yahoo_finance) (1.12.0)\n"
     ]
    }
   ],
   "source": [
    "'''\n",
    "IMPORT YAHOO FINANCE FIX\n",
    "'''\n",
    "\n",
    "# YAHOO FINANCE USED TO BE THE #1 API FOR FINANCIAL INFORMATION, BUT THEY STOPPED TO MAINTAIN THEIR API\n",
    "# HENCE, DOWNLOADING DATA WAS THE MOST CHALLENGING ASPECT OF THIS PROGRAM\n",
    "# WE USE THE YAHOO FINANCE FIX, BECAUSE IT PROVIDES US WITH REAL-TIME DATA IN A PRACTICAL DICTIONARY FORMAT\n",
    "\n",
    "# INSTALL WITH PIP\n",
    "! pip install fix_yahoo_finance\n",
    "\n",
    "# IMPORT YAHOO FINANCE FIX\n",
    "import fix_yahoo_finance as yf\n",
    "\n",
    "# NOTE: OUTPUT EXISTS, BUT WAS COLLAPSED TO SUPPORT READABILITY"
   ]
  },
  {
   "cell_type": "code",
   "execution_count": 4,
   "metadata": {
    "collapsed": true
   },
   "outputs": [
    {
     "name": "stdout",
     "output_type": "stream",
     "text": [
      "Requirement already satisfied: wikipedia in c:\\users\\hhilp\\appdata\\local\\programs\\python\\python36\\lib\\site-packages (1.4.0)\n",
      "Requirement already satisfied: beautifulsoup4 in c:\\users\\hhilp\\appdata\\local\\programs\\python\\python36\\lib\\site-packages (from wikipedia) (4.7.1)\n",
      "Requirement already satisfied: requests<3.0.0,>=2.0.0 in c:\\users\\hhilp\\appdata\\local\\programs\\python\\python36\\lib\\site-packages (from wikipedia) (2.19.1)\n",
      "Requirement already satisfied: soupsieve>=1.2 in c:\\users\\hhilp\\appdata\\local\\programs\\python\\python36\\lib\\site-packages (from beautifulsoup4->wikipedia) (1.7.1)\n",
      "Requirement already satisfied: idna<2.8,>=2.5 in c:\\users\\hhilp\\appdata\\local\\programs\\python\\python36\\lib\\site-packages (from requests<3.0.0,>=2.0.0->wikipedia) (2.7)\n",
      "Requirement already satisfied: chardet<3.1.0,>=3.0.2 in c:\\users\\hhilp\\appdata\\local\\programs\\python\\python36\\lib\\site-packages (from requests<3.0.0,>=2.0.0->wikipedia) (3.0.4)\n",
      "Requirement already satisfied: certifi>=2017.4.17 in c:\\users\\hhilp\\appdata\\local\\programs\\python\\python36\\lib\\site-packages (from requests<3.0.0,>=2.0.0->wikipedia) (2018.11.29)\n",
      "Requirement already satisfied: urllib3<1.24,>=1.21.1 in c:\\users\\hhilp\\appdata\\local\\programs\\python\\python36\\lib\\site-packages (from requests<3.0.0,>=2.0.0->wikipedia) (1.23)\n"
     ]
    }
   ],
   "source": [
    "'''\n",
    "INSTALL AND IMPORT WIKIPEDIA\n",
    "TO DERIVE COMPANY DESCRIPTIONS\n",
    "'''\n",
    "\n",
    "! pip install wikipedia\n",
    "import wikipedia"
   ]
  },
  {
   "cell_type": "code",
   "execution_count": 5,
   "metadata": {},
   "outputs": [],
   "source": [
    "'''\n",
    "IMPORT PANDAS FOR DATA ANALYSIS\n",
    "TURN OFF WARNINGS\n",
    "'''\n",
    "\n",
    "import pandas as pd\n",
    "import numpy as np\n",
    "import warnings\n",
    "warnings.filterwarnings('ignore')"
   ]
  },
  {
   "cell_type": "code",
   "execution_count": 6,
   "metadata": {},
   "outputs": [
    {
     "data": {
      "text/plain": [
       "'\\nSOURCE:\\nhttps://stackoverflow.com/questions/1823058/how-to-print-number-with-commas-as-thousands-separators\\n'"
      ]
     },
     "execution_count": 6,
     "metadata": {},
     "output_type": "execute_result"
    }
   ],
   "source": [
    "'''\n",
    "DEFINE FUNCTION: COMMAS FOR LARGE NUMBERS\n",
    "SEE SOURCE BELOW\n",
    "'''\n",
    "\n",
    "def with_commas(number):\n",
    "    s = '%d' % number\n",
    "    groups = []\n",
    "    while s and s[-1].isdigit():\n",
    "        groups.append(s[-3:])\n",
    "        s = s[:-3]\n",
    "    return s + ','.join(reversed(groups))\n",
    "\n",
    "'''\n",
    "SOURCE:\n",
    "https://stackoverflow.com/questions/1823058/how-to-print-number-with-commas-as-thousands-separators\n",
    "'''"
   ]
  },
  {
   "cell_type": "markdown",
   "metadata": {},
   "source": [
    "# SEE STEP-BY-STEP FUNCTION DEFINITIONS BELOW:"
   ]
  },
  {
   "cell_type": "markdown",
   "metadata": {},
   "source": [
    "## STEP 1-A: REQUEST USER E-MAIL\n",
    "\n",
    "Since the output of this program is an e-mail sent to the user that contains all “hidden information” related to a stock, we need to request his or her e-mail address first.\n",
    "\n",
    "#### INPUT:\n",
    "- User E-Mail\n",
    "\n",
    "#### OUTPUT:\n",
    "- User E-Mail\n",
    "    - Assigned to Variable\n",
    "\n",
    "#### PROCESS:\n",
    "- Request E-Mail\n",
    "- Assign E-Mail to Variable"
   ]
  },
  {
   "cell_type": "code",
   "execution_count": 7,
   "metadata": {},
   "outputs": [],
   "source": [
    "'''\n",
    "FUNCTION: REQUEST USER E-MAIL ADDRESS\n",
    "'''\n",
    "\n",
    "# DEFINE FUNCTION\n",
    "def request_user_email():\n",
    "    \n",
    "    # REQUEST USER INPUT\n",
    "    user_email = input(\"Enter your E-Mail Address: \")\n",
    "    \n",
    "    # RETURN USER EMAIL\n",
    "    return user_email"
   ]
  },
  {
   "cell_type": "code",
   "execution_count": 8,
   "metadata": {},
   "outputs": [
    {
     "name": "stdout",
     "output_type": "stream",
     "text": [
      "Enter your E-Mail Address: jeff@amazon.com\n",
      "jeff@amazon.com\n"
     ]
    }
   ],
   "source": [
    "'''\n",
    "TEST FUNCTION: REQUEST USER E-MAIL ADDRESS\n",
    "'''\n",
    "\n",
    "# CALL FUNCTION, ASSIGN TO VARIABLE\n",
    "user_email = request_user_email()\n",
    "\n",
    "# PRINT VARIABLE\n",
    "print(user_email)"
   ]
  },
  {
   "cell_type": "markdown",
   "metadata": {},
   "source": [
    "## STEP 1-B: REQUEST TICKER SYMBOL\n",
    "\n",
    "In order to make this program work, the user needs to provide us with the company ticker symbol.\n",
    "\n",
    "#### INPUT:\n",
    "- Ticker Symbol\n",
    "\n",
    "#### OUTPUT:\n",
    "- Ticker Symbol\n",
    "    - Assigned to Variable\n",
    "\n",
    "#### PROCESS:\n",
    "- Request Ticker\n",
    "- Assign Ticker to Variable"
   ]
  },
  {
   "cell_type": "code",
   "execution_count": 9,
   "metadata": {},
   "outputs": [],
   "source": [
    "'''\n",
    "FUNCTION: REQUEST TICKER SYMBOL\n",
    "'''\n",
    "\n",
    "# DEFINE FUNCTION\n",
    "def request_ticker():\n",
    "    \n",
    "    # REQUEST TICKER INPUT\n",
    "    ticker = input(\"Enter the Ticker: \")\n",
    "    \n",
    "    # RETURN TICKER\n",
    "    return ticker"
   ]
  },
  {
   "cell_type": "code",
   "execution_count": 10,
   "metadata": {},
   "outputs": [
    {
     "name": "stdout",
     "output_type": "stream",
     "text": [
      "Enter the Ticker: BAC\n",
      "BAC\n"
     ]
    }
   ],
   "source": [
    "'''\n",
    "TEST FUNCTION: REQUEST TICKER SYMBOL\n",
    "'''\n",
    "\n",
    "# CALL FUNCTION, ASSIGN TO VARIABLE\n",
    "ticker = request_ticker()\n",
    "\n",
    "# PRINT VARIABLE\n",
    "print(ticker)"
   ]
  },
  {
   "cell_type": "markdown",
   "metadata": {},
   "source": [
    "## STEP 2: IDENTIFY COMPANY NAME\n",
    "\n",
    "A ticker symbol is the unique identifier of a stock and most financial data is linked to that ticker. However, we also want to know the company name for our summary and for some data downloads. The ticker will be used to access and download relevant data.\n",
    "\n",
    "#### INPUT\n",
    "- Company Ticker Symbol\n",
    "\n",
    "#### OUTPUT\n",
    "- Company Name\n",
    "\n",
    "#### PROCESS:\n",
    "- Define Function\n",
    "    - Name: get_company_name\n",
    "    - Argument: ticker\n",
    "- Function Body\n",
    "    - Create Ticker Object\n",
    "        - Assign to Variable\n",
    "    - Get Company Name\n",
    "        - Key: 'longName'\n",
    "- Return\n",
    "    - Name    "
   ]
  },
  {
   "cell_type": "code",
   "execution_count": 11,
   "metadata": {
    "scrolled": true
   },
   "outputs": [],
   "source": [
    "'''\n",
    "FUNCTION: IDENTIFY COMPANY NAME\n",
    "'''\n",
    "\n",
    "# FUNCTION DEFINITION\n",
    "def get_company_name(ticker):\n",
    "\n",
    "    # CREATE TICKER OBJECT\n",
    "    name_object = yf.Ticker(ticker)\n",
    "\n",
    "    # GET COMPANY NAME\n",
    "    name = name_object.info\n",
    "    company_name = name['longName']\n",
    "\n",
    "    # RETURN STATEMENT\n",
    "    return company_name"
   ]
  },
  {
   "cell_type": "code",
   "execution_count": 12,
   "metadata": {},
   "outputs": [
    {
     "name": "stdout",
     "output_type": "stream",
     "text": [
      "Bank of America Corporation\n"
     ]
    }
   ],
   "source": [
    "'''\n",
    "TEST FUNCTION: IDENTIFY COMPANY NAME\n",
    "'''\n",
    "\n",
    "# CALL FUNCTION AND ASSIGN TO VARIABLE\n",
    "name = get_company_name('BAC')\n",
    "\n",
    "# PRINT VARIABLE\n",
    "print(name)"
   ]
  },
  {
   "cell_type": "markdown",
   "metadata": {},
   "source": [
    "## STEP 3: CREATE BRIEF COMPANY OVERVIEW\n",
    "\n",
    "Since there are more than 4,000 publicly traded stocks in the United States, investors frequently encounter companies they are completely unfamiliar with. Hence, our program starts by providing the user with basic information about the company allowing the user to become more familiar with the entity.\n",
    "\n",
    "**Company Size:** Shows the user how large the company is. This is important because companies of different sizes cannot be compared easily. In addition, large companies tend to be less volatile than small companies.\n",
    "\n",
    "**Company Beta:** Beta is a risk measure that provides an estimate on how much the price of a stock will change if the overall market moves.\n",
    "\n",
    "#### INPUT\n",
    "- Stock ticker symbol\n",
    "\n",
    "#### OUTPUT\n",
    "- General Description\n",
    "- Company Size\n",
    "- Company Beta"
   ]
  },
  {
   "cell_type": "code",
   "execution_count": 54,
   "metadata": {},
   "outputs": [],
   "source": [
    "'''\n",
    "FUNCTION: GET GENERAL DESCRIPTION\n",
    "'''\n",
    "\n",
    "# DEFINE FUNCTION\n",
    "# ARGUMENT: COMPANY NAME (STRING)\n",
    "def get_company_description(name):\n",
    "\n",
    "    # USE WIKIPEDIA SUMMARY METHOD\n",
    "    company_description = wikipedia.summary(name)\n",
    "\n",
    "    # SPLIT OUTPUTS INTO TOKENS WHEN PERIOD OCCURS\n",
    "    description_tokens = company_description.split(\".\")\n",
    "\n",
    "    # ASSIGN FIRST FIVE SENTENCES TO SEPARATE VARIABLES\n",
    "    first_sentence = description_tokens[0]\n",
    "    second_sentence = description_tokens[1]\n",
    "    third_sentence = description_tokens[2]\n",
    "    fourth_sentence = description_tokens[3]\n",
    "    fifth_sentence = description_tokens[4]\n",
    "    \n",
    "    # PRINT INFORMATION\n",
    "    description = first_sentence+\".\"+second_sentence+\".\"+third_sentence+\".\"+fourth_sentence+\".\"+fifth_sentence+\".\"\n",
    "    \n",
    "    # RETURN (ONLY SO THAT IT DOES NOT RETURN 'NONE')\n",
    "    return description"
   ]
  },
  {
   "cell_type": "code",
   "execution_count": 55,
   "metadata": {},
   "outputs": [
    {
     "name": "stdout",
     "output_type": "stream",
     "text": [
      "The Bank of America Corporation (abbreviated as BofA) is an American multinational investment bank and financial services company based in Charlotte, North Carolina with central hubs in New York City, London, Hong Kong, Minneapolis, and Toronto. Bank of America was formed through NationsBank's acquisition of BankAmerica in 1998. It is the second largest banking institution in the United States, after JP Morgan Chase. As a part of the Big Four, it services approximately 10.73% of all American bank deposits, in direct competition with Citigroup, Wells Fargo, and JPMorgan Chase.\n"
     ]
    }
   ],
   "source": [
    "'''\n",
    "CHECK FUNCTION: GET GENERAL DESCRIPTION\n",
    "'''\n",
    "\n",
    "# CALL FUNCTION AND ASSIGN TO VARIABLE\n",
    "description = get_company_description('Bank of America')\n",
    "\n",
    "# PRINT OUTPUT\n",
    "print(description)"
   ]
  },
  {
   "cell_type": "code",
   "execution_count": 62,
   "metadata": {},
   "outputs": [],
   "source": [
    "'''\n",
    "FUNCTION: GET SIZE\n",
    "'''\n",
    "\n",
    "def get_company_size(ticker):\n",
    "\n",
    "    # CREATE TICKER OBJECT\n",
    "    ticker_object = yf.Ticker(ticker)\n",
    "\n",
    "    # GET COMPANY SIZE\n",
    "    company_size = ticker_object.info\n",
    "    size = company_size['marketCap']\n",
    "    size_comma = with_commas(size)\n",
    "\n",
    "    # PRINT STATEMENT\n",
    "    size = \"Total Market Cap: $\"+size_comma\n",
    "    \n",
    "    # RETURN STATEMENT\n",
    "    return size"
   ]
  },
  {
   "cell_type": "code",
   "execution_count": 63,
   "metadata": {},
   "outputs": [
    {
     "name": "stdout",
     "output_type": "stream",
     "text": [
      "Total Market Cap: $281,870,598,144\n"
     ]
    }
   ],
   "source": [
    "'''\n",
    "TEST FUNCTION: GET SIZE\n",
    "'''\n",
    "\n",
    "# CALL FUNCTION AND ASSIGN TO VARIABLE\n",
    "size = get_company_size('BAC')\n",
    "\n",
    "# PRINT STATEMENT\n",
    "print(size)"
   ]
  },
  {
   "cell_type": "code",
   "execution_count": 76,
   "metadata": {},
   "outputs": [],
   "source": [
    "'''\n",
    "FUNCTION: GET CURRENT PRICE PER SHARE\n",
    "'''\n",
    "\n",
    "def get_share_price(ticker):\n",
    "\n",
    "    # CREATE TICKER OBJECT\n",
    "    ticker_object = yf.Ticker(ticker)\n",
    "\n",
    "    # GET COMPANY SIZE\n",
    "    company_size = ticker_object.info\n",
    "    size = company_size['marketCap']\n",
    "    \n",
    "    # GET SHARES OUTSTANDING\n",
    "    shares_out = ticker_object.info\n",
    "    shares = shares_out['sharesOutstanding']\n",
    "\n",
    "    # CALCULATE CURRENT MARKET PRICE\n",
    "    one_share_price = size / shares\n",
    "    two_share_price = str(one_share_price)\n",
    "    \n",
    "    # PRINT STATEMENT\n",
    "    share_price = \"Price Per Share: $\"+two_share_price[0:5]\n",
    "    \n",
    "    # RETURN STATEMENT\n",
    "    return share_price"
   ]
  },
  {
   "cell_type": "code",
   "execution_count": 77,
   "metadata": {},
   "outputs": [
    {
     "name": "stdout",
     "output_type": "stream",
     "text": [
      "Price Per Share: $29.71\n"
     ]
    }
   ],
   "source": [
    "'''\n",
    "TEST FUNCTION: GET CURRENT PRICE PER SHARE\n",
    "'''\n",
    "\n",
    "# CALL FUNCTION AND ASSIGN VARIABLE\n",
    "price = get_share_price('BAC')\n",
    "\n",
    "# PRINT\n",
    "print(price)"
   ]
  },
  {
   "cell_type": "code",
   "execution_count": 84,
   "metadata": {},
   "outputs": [],
   "source": [
    "'''\n",
    "GET BOOK VALUE\n",
    "'''\n",
    "\n",
    "# DEFINE FUNCTION TO GET BOOK VALUE\n",
    "# ARGUMENT: TICKER\n",
    "def get_book_value(ticker):\n",
    "    \n",
    "    # CREATE TICKER OBJECT\n",
    "    ticker_object = yf.Ticker(ticker)\n",
    "\n",
    "    # GET BOOK VALUE PER SHARE\n",
    "    book_value = ticker_object.info\n",
    "    one_book = book_value['bookValue']\n",
    "    two_book = str(one_book)\n",
    "    \n",
    "    # PRINT STATEMENT\n",
    "    book = \"Book Value Per Share: $\"+two_book[0:5]\n",
    "    \n",
    "    # RETURN STATEMENT\n",
    "    return book"
   ]
  },
  {
   "cell_type": "code",
   "execution_count": 86,
   "metadata": {},
   "outputs": [
    {
     "name": "stdout",
     "output_type": "stream",
     "text": [
      "Book Value Per Share: $25.57\n"
     ]
    }
   ],
   "source": [
    "'''\n",
    "TEST: GET BOOK VALUE\n",
    "'''\n",
    "\n",
    "# CALL FUNCTION AND ASSIGN TO VARIABLE\n",
    "book_one = get_book_value('BAC')\n",
    "print(book_one)"
   ]
  },
  {
   "cell_type": "code",
   "execution_count": 130,
   "metadata": {},
   "outputs": [],
   "source": [
    "'''\n",
    "COMPARE STOCK PRICE WITH BOOK VALUE\n",
    "'''\n",
    "\n",
    "# DEFINE FUNCTION TO COMPARE MARKET VALUE WITH BOOK VALUE\n",
    "# ARGUMENT: TICKER\n",
    "def market_vs_book(ticker):\n",
    "\n",
    "    # GET BOOK VALUE\n",
    "    ticker_object = yf.Ticker(ticker)\n",
    "    book_value = ticker_object.info\n",
    "    book = book_value['bookValue']\n",
    "\n",
    "    # GET MARKET VALUE\n",
    "    ticker_object = yf.Ticker(ticker)\n",
    "    share_price = ticker_object.info\n",
    "    price = share_price['regularMarketPrice']\n",
    "\n",
    "    # CALCULATE PRICE-TO-BOOK RATIO\n",
    "    price_to_book = float(price / book)\n",
    "\n",
    "    if price > book:\n",
    "        one_difference = price / book\n",
    "        two_difference = str(one_difference)\n",
    "        three_difference = two_difference[0:4]\n",
    "        mvb_statement = \"WATCH OUT: Market Value is \"+three_difference+\" times larger than Book Value!\"\n",
    "    else:\n",
    "        mvb_statement = \"Don't worry - you should be fine!\"\n",
    "    \n",
    "    return mvb_statement"
   ]
  },
  {
   "cell_type": "code",
   "execution_count": 89,
   "metadata": {},
   "outputs": [
    {
     "name": "stdout",
     "output_type": "stream",
     "text": [
      "Price To Book Ratio: 1.17\n"
     ]
    },
    {
     "data": {
      "text/plain": [
       "'WATCH OUT: Market Value is 1.16 times larger than Book Value!'"
      ]
     },
     "execution_count": 89,
     "metadata": {},
     "output_type": "execute_result"
    }
   ],
   "source": [
    "'''\n",
    "TEST: COMPARE STOCK PRICE WITH BOOK VALUE\n",
    "'''\n",
    "\n",
    "# CALL FUNCTION\n",
    "market_vs_book('BAC')"
   ]
  },
  {
   "cell_type": "markdown",
   "metadata": {},
   "source": [
    "## STEP 4: EVALUATE THE CHEAPNESS OR RICHNESS OF THE STOCK COMPARED TO THE MARKET, THE SPECIFIC INDUSTRY, AND THE COMPANY ITSELF\n",
    "\n",
    "The price of financial assets is often evaluated relative to the overall market, a specific industry, or the historical data of the company itself. Using certain ratios, we will be able to make conclusions on whether the price of a stock is expensive or cheap compared to the market, industry, and company itself.\n",
    "\n",
    "**P/E**: The price-to-earnings ratio measures how much an investor has to pay to be entitled for $1 of the company’s earnings. The numerator is the market price of the stock and the denominator describes earnings-per-share. This ratio explains how “expensive” a stock is and is commonly used for comparisons.\n",
    "\n",
    "**P/B:** The price-to-book ratio measures the market value of a stock company relative to the accounting book value of the company’s assets as indicated on the balance sheet. Since the price of a stock is the present value of future cash flows, deviations are common. We use this ratio to further illustrate the richness or cheapness of a company.\n",
    "\n",
    "#### INPUT\n",
    "- P/E ratio\n",
    "- P/B ratio\n",
    "\n",
    "#### OUTPUT\n",
    "- Cheapness/ Richness Compared to Overall Market\n",
    "- Cheapness/ Richness Compared to Specific Industry\n",
    "- Cheapness/ Richness Compared to Company Historical Data\n"
   ]
  },
  {
   "cell_type": "code",
   "execution_count": 104,
   "metadata": {},
   "outputs": [],
   "source": [
    "'''\n",
    "FUNCTION: EARNINGS PER SHARE\n",
    "'''\n",
    "\n",
    "# DEFINE FUNCTION\n",
    "# ARGUMENT: TICKER\n",
    "def earnings_per_share(ticker):\n",
    "    \n",
    "    # TICKER OBJECT\n",
    "    ticker_object = yf.Ticker(ticker)\n",
    "    company_earnings = ticker_object.info\n",
    "    \n",
    "    # TRAILING P/E\n",
    "    cT_earnings = company_earnings['epsTrailingTwelveMonths']\n",
    "    cT_earnings = str(cT_earnings)\n",
    "    one_trailing = \"Trailing Earnings Per Share: $\"+cT_earnings\n",
    "    two_trailing = str(one_trailing)\n",
    "    \n",
    "    # FORWARD P/E\n",
    "    cF_earnings = company_earnings['epsForward']\n",
    "    cF_earnings = str(cF_earnings)\n",
    "    one_forward = \"Forward Earnings Per Share: $\"+cF_earnings\n",
    "    two_forward = str(one_forward)\n",
    "    \n",
    "    # COMPARISON\n",
    "    if cT_earnings > cF_earnings:\n",
    "        statement = \"CAUTION: Earnings are expected to decrease\"\n",
    "    else:\n",
    "        statement = \"RELAX: Earnings are expected to increase!\"\n",
    "    \n",
    "    eps = two_trailing+\"\\n\"+two_forward+\"\\n\"+statement\n",
    "    return eps"
   ]
  },
  {
   "cell_type": "code",
   "execution_count": 105,
   "metadata": {},
   "outputs": [
    {
     "name": "stdout",
     "output_type": "stream",
     "text": [
      "Trailing Earnings Per Share: $-5.691\n",
      "Forward Earnings Per Share: $6.23\n",
      "RELAX: Earnings are expected to increase!\n"
     ]
    }
   ],
   "source": [
    "'''\n",
    "TEST FUNCTION: EARNINGS PER SHARE\n",
    "'''\n",
    "\n",
    "x = earnings_per_share('TSLA')\n",
    "print(x)"
   ]
  },
  {
   "cell_type": "code",
   "execution_count": 110,
   "metadata": {},
   "outputs": [],
   "source": [
    "'''\n",
    "FUNCTION: P/E RATIO\n",
    "'''\n",
    "\n",
    "def get_PE_ratio(ticker):\n",
    "    \n",
    "    ticker_object = yf.Ticker(ticker)\n",
    "    company_PE = ticker_object.info\n",
    "    cT_PE = company_PE['trailingPE']\n",
    "    cF_PE = company_PE['forwardPE']\n",
    "\n",
    "    first_print = \"Trailing P/E: \"+str(cT_PE)\n",
    "    second_print = \"Forward P/E: \"+str(cF_PE)\n",
    "    third_print = \"This means that you have to pay \"+str(cF_PE)+\" to receive $1 of the company's earnings!\"\n",
    "\n",
    "    half_print = first_print+\"\\n\"+second_print+\"\\n\"+third_print\n",
    "    \n",
    "    ticker_object = yf.Ticker(ticker)\n",
    "    company_earnings = ticker_object.info\n",
    "\n",
    "    cF_earnings = company_earnings['epsForward']\n",
    "    cF_earnings = str(cF_earnings)\n",
    "    cT_earnings = company_earnings['epsTrailingTwelveMonths']\n",
    "    cT_earnings = str(cT_earnings)\n",
    "    \n",
    "    if cT_PE > cF_PE and cT_earnings > cF_earnings:\n",
    "        x = \"The Trailing P/E Ratio is LARGER than the Forward P/E Ratio...\"\n",
    "        y = \"WATCH OUT: Stock Price is expected to decrease!\"\n",
    "    elif cT_PE > cF_PE and cT_earnings < cF_earnings:\n",
    "        x = \"The Trailing P/E Ratio is LARGER than the Forward P/E Ratio...\"\n",
    "        y = \"RELAX: Earnings are expected to increase!\"\n",
    "    elif cT_PE < cF_PE and cT_earnings > cF_earnings:\n",
    "        x = \"The Trailing P/E Ratio is SMALLER than the Forward P/E Ratio...\"\n",
    "        y = \"WATCH OUT: Earnings are expected to decrease!\"\n",
    "    elif cT_PE < cF_PE and cT_earnings < cF_earnings:\n",
    "        x = \"The Trailing P/E Ratio is SMALLER than the Forward P/E Ratio...\"\n",
    "        y = \"AMAZING: Both price and earnings are expected to increase!\"\n",
    "    \n",
    "    complete = half_print+\"\\n\"+x+\"\\n\"+y\n",
    "    return complete"
   ]
  },
  {
   "cell_type": "code",
   "execution_count": 112,
   "metadata": {},
   "outputs": [
    {
     "name": "stdout",
     "output_type": "stream",
     "text": [
      "Trailing P/E: 11.115241\n",
      "Forward P/E: 9.4920635\n",
      "This means that you have to pay 9.4920635 to receive $1 of the company's earnings!\n",
      "The Trailing P/E Ratio is LARGER than the Forward P/E Ratio...\n",
      "RELAX: Earnings are expected to increase!\n"
     ]
    }
   ],
   "source": [
    "'''\n",
    "TEST FUNCTION: P/E RATIO\n",
    "'''\n",
    "\n",
    "pe = get_PE_ratio('BAC')\n",
    "print(pe)"
   ]
  },
  {
   "cell_type": "markdown",
   "metadata": {},
   "source": [
    "## STEP 5: OUTLINE TRENDS REGARDING SALES, PROFIT MARGINS, EARNINGS PER SHARE, AND DIVIDENDS\n",
    "\n",
    "The market for a specific security is heavily influenced by short-term and long-term trends. Research has shown that once news about a company are released, the company stock exhibits positive autocorrelation over a specific time period . Hence, these trends can give investors an idea of future price developments and specific numbers he or she might want to follow.\n",
    "\n",
    "**Earnings per Share:** Earnings per share measure how much of the firm’s profits would – theoretically – be available to the owner of one share of stock. The ratio is derived by dividing total profits by the number of total shares outstanding.\n",
    "\n",
    "**Dividends per Share:** Dividends include cash distributions to shareholders. Dividends are taken from the company’s profits and are the part of profits that are not reinvested in the company. Research has shown that dividend cuts lead to a massive decrease in share prices.\n",
    "\n",
    "#### INPUT\n",
    "- Earnings per Share\n",
    "    - Current\n",
    "    - Historical\n",
    "- Dividends per Share\n",
    "    - Current\n",
    "    - Historical\n",
    "- Stock Splits\n",
    "    - Current\n",
    "    - Historical\n",
    "\n",
    "#### OUTPUT\n",
    "- Trends in Earnings\n",
    "- Trends in Dividends\n",
    "- Trends in Stock Splits"
   ]
  },
  {
   "cell_type": "code",
   "execution_count": 120,
   "metadata": {},
   "outputs": [],
   "source": [
    "'''\n",
    "FUNCTION: LAST 5 DIVIDENDS\n",
    "'''\n",
    "\n",
    "# DEFINE FUNCTION\n",
    "# ARGUMENT: TICKER\n",
    "def dividend_info(ticker):\n",
    "    \n",
    "    # USE ARGUMENT, ASSIGN VARIABLE\n",
    "    stock = yf.Ticker(ticker)\n",
    "\n",
    "    # DIVIDENDS METHOD\n",
    "    dividends = stock.dividends\n",
    "    \n",
    "    # PRINT STATEMENTS\n",
    "    one = \"Last Five Dividends:\\n\"+str(dividends.tail(5))+\"\\n\"\n",
    "    two = \"Highest Dividend: \"+str(dividends.max())+\"\\n\"\n",
    "    three = \"Average Dividend: \"+str(dividends.mean())\n",
    "    \n",
    "    total = one+two+three\n",
    "    \n",
    "    return total"
   ]
  },
  {
   "cell_type": "code",
   "execution_count": 121,
   "metadata": {},
   "outputs": [
    {
     "name": "stdout",
     "output_type": "stream",
     "text": [
      "Last Five Dividends:\n",
      "Date\n",
      "2018-03-01    0.12\n",
      "2018-05-31    0.12\n",
      "2018-09-06    0.15\n",
      "2018-12-06    0.15\n",
      "2019-02-28    0.15\n",
      "Name: Dividends, dtype: float64\n",
      "Highest Dividend: 0.8\n",
      "Average Dividend: 0.3300735294117647\n"
     ]
    }
   ],
   "source": [
    "'''\n",
    "TEST FUNCTION: LAST 5 DIVIDENDS\n",
    "'''\n",
    "\n",
    "# CALL FUNCTION AND ASSIGN VARIABLE\n",
    "dividend = dividend_info('BAC')\n",
    "print(dividend)"
   ]
  },
  {
   "cell_type": "code",
   "execution_count": 123,
   "metadata": {},
   "outputs": [],
   "source": [
    "'''\n",
    "FUNCTION: STOCK SPLITS\n",
    "'''\n",
    "\n",
    "# DEFINE FUNCTION\n",
    "# ARGUMENT: TICKER\n",
    "def stock_split_info(ticker):\n",
    "    \n",
    "    # USE ARGUMENT, ASSIGN VARIABLE\n",
    "    stock = yf.Ticker(ticker)\n",
    "\n",
    "    # DIVIDENDS METHOD\n",
    "    splits = stock.splits\n",
    "    \n",
    "    # PRINT STATEMENTS\n",
    "    x = \"Last Five Stock Splits:\\n\"+str(splits.tail(5))\n",
    "    \n",
    "    return x"
   ]
  },
  {
   "cell_type": "code",
   "execution_count": 125,
   "metadata": {},
   "outputs": [
    {
     "name": "stdout",
     "output_type": "stream",
     "text": [
      "Last Five Stock Splits:\n",
      "Date\n",
      "1986-11-21    2.0\n",
      "1997-02-28    2.0\n",
      "2004-08-30    2.0\n",
      "Name: Stock Splits, dtype: float64\n"
     ]
    }
   ],
   "source": [
    "'''\n",
    "CHECK FUNCTION: STOCK SPLITS\n",
    "'''\n",
    "\n",
    "# CALL FUNCTION AND ASSIGN VARIABLE\n",
    "splits = stock_split_info('BAC')\n",
    "print(splits)"
   ]
  },
  {
   "cell_type": "markdown",
   "metadata": {},
   "source": [
    "## STEP 7: CREATE FILE AND SEND THE USER\n",
    "\n",
    "#### INPUT\n",
    "- Above Output\n",
    "\n",
    "#### OUTPUT\n",
    "- File Summary\n",
    "    - Send to User"
   ]
  },
  {
   "cell_type": "code",
   "execution_count": 131,
   "metadata": {},
   "outputs": [
    {
     "name": "stdout",
     "output_type": "stream",
     "text": [
      "Enter your E-Mail Address: hhilpert@syr.edu\n",
      "Enter the Ticker: BAC\n"
     ]
    },
    {
     "data": {
      "text/plain": [
       "(221, b'2.0.0 closing connection u2sm8471848qkb.37 - gsmtp')"
      ]
     },
     "execution_count": 131,
     "metadata": {},
     "output_type": "execute_result"
    }
   ],
   "source": [
    "# USER INPUTS\n",
    "user_email = request_user_email()\n",
    "ticker = request_ticker()\n",
    "\n",
    "# COMPANY NAME\n",
    "name = get_company_name(ticker)\n",
    "\n",
    "# COMPANY DESCRIPTION\n",
    "description = get_company_description(name)\n",
    "\n",
    "# COMPANY SIZE\n",
    "size = get_company_size(ticker)\n",
    "\n",
    "# PRICE PER SHARE\n",
    "price = get_share_price(ticker)\n",
    "\n",
    "# BOOK VALUE PER SHARE\n",
    "book = get_book_value(ticker)\n",
    "\n",
    "# MARKET VALUE VS BOOK VALUE\n",
    "mvb = market_vs_book(ticker)\n",
    "\n",
    "# EARNINGS PER SHARE\n",
    "eps = earnings_per_share(ticker)\n",
    "\n",
    "# P/E RATIO AND EXPECTATIONS\n",
    "pe = get_PE_ratio(ticker)\n",
    "\n",
    "# CHECK FOR DIVIDENDS\n",
    "dividend = dividend_info(ticker)\n",
    "\n",
    "\n",
    "'''\n",
    "FORMAT E-MAIL\n",
    "'''\n",
    "format_subject = \"Update On: \"+ticker\n",
    "format_body = \"Hi, \\n\"+\"This is your update on: \"+name+\"!\\n\"+\"GENERAL DESCRIPTION:\\n\"+description+\"\\n\"+size+\"\\n\"+\"PRICE INFORMATION:\\n\"+price+\"\\n\"+book+\"\\n\"+mvb+\"\\n\"+\"EARNINGS INFORMATION:\\n\"+eps+\"\\n\"+\"RELATIVE VALUE:\\n\"+pe+\"\\n\"+\"DIVIDENDS:\\n\"+dividend+\"\\n\"+\"THANK YOU AND GOOD LUCK!\"\n",
    "\n",
    "'''\n",
    "SEND E-MAIL\n",
    "SOURCE: Ben Nichols/ GitHub: \"BenTheProfessor\"\n",
    "'''\n",
    "\n",
    "import smtplib\n",
    "\n",
    "email = \"jimcramerfromcnbc@gmail.com\"\n",
    "password = \"jimcramer\"\n",
    "send_to_email = user_email\n",
    "\n",
    "subject = format_subject\n",
    "body = format_body\n",
    "\n",
    "message = 'Subject: {sbj}\\n\\n{bd}'.format(sbj=subject, bd=body)\n",
    "server = smtplib.SMTP('smtp.gmail.com',587)\n",
    "server.starttls()\n",
    "server.login(email, password)\n",
    "server.sendmail(email, send_to_email, message)\n",
    "server.quit()"
   ]
  },
  {
   "cell_type": "code",
   "execution_count": null,
   "metadata": {},
   "outputs": [],
   "source": []
  }
 ],
 "metadata": {
  "kernelspec": {
   "display_name": "Python 3",
   "language": "python",
   "name": "python3"
  },
  "language_info": {
   "codemirror_mode": {
    "name": "ipython",
    "version": 3
   },
   "file_extension": ".py",
   "mimetype": "text/x-python",
   "name": "python",
   "nbconvert_exporter": "python",
   "pygments_lexer": "ipython3",
   "version": "3.6.6"
  }
 },
 "nbformat": 4,
 "nbformat_minor": 2
}
