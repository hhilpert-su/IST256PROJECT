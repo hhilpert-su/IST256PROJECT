{
 "cells": [
  {
   "cell_type": "code",
   "execution_count": null,
   "metadata": {},
   "outputs": [],
   "source": []
  },
  {
   "cell_type": "code",
   "execution_count": null,
   "metadata": {},
   "outputs": [],
   "source": [
    "'''\n",
    "IMPORT MODULES FOR API USAGE\n",
    "'''\n",
    "\n",
    "import requests\n",
    "import json"
   ]
  },
  {
   "cell_type": "code",
   "execution_count": null,
   "metadata": {},
   "outputs": [],
   "source": [
    "'''\n",
    "IMPORT MODULES FOR DATA ANALYSIS\n",
    "'''\n",
    "import pandas as pd\n",
    "import numpy as np\n",
    "from IPython.display import display\n",
    "\n",
    "# TURN OFF WARNING MESSAGES\n",
    "import warnings\n",
    "warnings.filterwarnings('ignore')"
   ]
  },
  {
   "cell_type": "code",
   "execution_count": null,
   "metadata": {},
   "outputs": [],
   "source": [
    "'''\n",
    "IMPORT MODULES FOR DATA VISUALIZATION\n",
    "'''\n",
    "# JUPYTER DIRECTIVE\n",
    "%matplotlib inline \n",
    "\n",
    "# IMPORTS\n",
    "import matplotlib\n",
    "import matplotlib.pyplot as plt\n",
    "import plotly \n",
    "import plotly.plotly as py     \n",
    "import plotly.graph_objs as go  \n",
    "import cufflinks as cf\n",
    "import pandas as pd\n",
    "import folium\n",
    "import warnings\n",
    "\n",
    "# WARNINGS\n",
    "warnings.filterwarnings('ignore')"
   ]
  },
  {
   "cell_type": "code",
   "execution_count": null,
   "metadata": {
    "scrolled": true
   },
   "outputs": [],
   "source": [
    "'''\n",
    "IMPORT UNIREST FOR 3RD PARTY PROVIDERS\n",
    "'''\n",
    "\n",
    "!pip install unirest\n",
    "import unirest"
   ]
  },
  {
   "cell_type": "code",
   "execution_count": null,
   "metadata": {},
   "outputs": [],
   "source": [
    "'''\n",
    "YAHOO FINANCE\n",
    "'''\n",
    "\n",
    "yahoo_api_url = \"apidojo-yahoo-finance-v1.p.rapidapi.com\"\n",
    "yahoo_api_key = \"cafe2fb546msh6334c31dcc10300p15d676jsn71ff68e24b4e\"\n",
    "\n",
    "method_summary = \"market/get-summary\"\n",
    "method_movers = \"market/get-movers\"\n",
    "method_quotes = \"market/get-quotes\"\n",
    "method_charts = \"market/get-charts\"\n",
    "\n",
    "response = unirest.get(\"https://apidojo-yahoo-finance-v1.p.rapidapi.com/market/get-summary?region=US&lang=en\",\n",
    "  headers={\n",
    "    \"X-RapidAPI-Host\": \"apidojo-yahoo-finance-v1.p.rapidapi.com\",\n",
    "    \"X-RapidAPI-Key\": \"cafe2fb546msh6334c31dcc10300p15d676jsn71ff68e24b4e\"\n",
    "  }\n",
    ")"
   ]
  },
  {
   "cell_type": "markdown",
   "metadata": {},
   "source": [
    "## STEP 1: REQUEST/ IDENTIFY USER E-MAIL\n",
    "\n",
    "Since the output of this program is an e-mail sent to the user that contains all “hidden information” related to a stock, we need to request his or her e-mail address first.\n",
    "\n",
    "#### INPUT:\n",
    "- User E-Mail\n",
    "\n",
    "#### OUTPUT:\n",
    "- User E-Mail\n",
    "    - Assigned to Variable\n",
    "    - String\n",
    "\n",
    "#### PROCESS:\n",
    "- Request E-Mail\n",
    "- Introduce Error Handling\n",
    "- Assign E-Mail to Variable"
   ]
  },
  {
   "cell_type": "code",
   "execution_count": null,
   "metadata": {},
   "outputs": [],
   "source": [
    "'''\n",
    "REQUEST USER E-MAIL ADDRESS\n",
    "'''\n",
    "\n",
    "# CODE GOES HERE"
   ]
  },
  {
   "cell_type": "markdown",
   "metadata": {},
   "source": [
    "## STEP 2: IDENTIFY COMPANY TICKER SYMBOL\n",
    "\n",
    "A ticker symbol is the unique identifier of a stock and most financial data is linked to that ticker. Hence, we need to convert the company name into the correct ticker symbol. The ticker will be used to access and download relevant data.\n",
    "\n",
    "#### INPUT\n",
    "- Company Name\n",
    "\n",
    "#### OUTPUT\n",
    "- Ticker Symbol\n",
    "\n",
    "#### PROCESS:"
   ]
  },
  {
   "cell_type": "code",
   "execution_count": null,
   "metadata": {
    "scrolled": true
   },
   "outputs": [],
   "source": [
    "'''\n",
    "IDENTIFY COMPANY TICKER SYMBOL\n",
    "'''\n",
    "\n",
    "# CODE GOES HERE"
   ]
  },
  {
   "cell_type": "markdown",
   "metadata": {},
   "source": [
    "## STEP 3: CREATE BRIEF COMPANY OVERVIEW\n",
    "\n",
    "Since there are more than 4,000 publicly traded stocks in the United States, investors frequently encounter companies they are completely unfamiliar with. Hence, our program starts by providing the user with basic information about the company allowing the user to become more familiar with the entity.\n",
    "\n",
    "**Company Size:** Shows the user how large the company is. This is important because companies of different sizes cannot be compared easily. In addition, large companies tend to be less volatile than small companies.\n",
    "**Capital Structure:** Shows the sources of financing for a company and allows the user to estimate the risk of the company. By looking at the capital structure, a user can see if the company is more dependent on debt financing (loans and bonds) or more dependent on equity financing (stocks).\n",
    "**Company Beta:** Beta is a risk measure that provides an estimate on how much the price of a stock will change if the overall market moves.\n",
    "\n",
    "#### INPUT\n",
    "- Stock ticker symbol\n",
    "\n",
    "#### OUTPUT\n",
    "- General Description\n",
    "- Industry\n",
    "- Company Size\n",
    "- Capital Structure\n",
    "- Company Beta"
   ]
  },
  {
   "cell_type": "code",
   "execution_count": null,
   "metadata": {},
   "outputs": [],
   "source": [
    "'''\n",
    "CREATE COMPANY OVERVIEW\n",
    "'''\n",
    "\n",
    "# CODE GOES HERE"
   ]
  },
  {
   "cell_type": "markdown",
   "metadata": {},
   "source": [
    "## STEP 4: EVALUATE THE CHEAPNESS OR RICHNESS OF THE STOCK COMPARED TO THE MARKET, THE SPECIFIC INDUSTRY, AND THE COMPANY ITSELF\n",
    "\n",
    "The price of financial assets is often evaluated relative to the overall market, a specific industry, or the historical data of the company itself. Using certain ratios, we will be able to make conclusions on whether the price of a stock is expensive or cheap compared to the market, industry, and company itself.\n",
    "\n",
    "**P/E**: The price-to-earnings ratio measures how much an investor has to pay to be entitled for $1 of the company’s earnings. The numerator is the market price of the stock and the denominator describes earnings-per-share. This ratio explains how “expensive” a stock is and is commonly used for comparisons.\n",
    "\n",
    "**P/B:** The price-to-book ratio measures the market value of a stock company relative to the accounting book value of the company’s assets as indicated on the balance sheet. Since the price of a stock is the present value of future cash flows, deviations are common. We use this ratio to further illustrate the richness or cheapness of a company.\n",
    "\n",
    "#### INPUT\n",
    "- P/E ratio\n",
    "    - Market\n",
    "        - Current\n",
    "    - Industry\n",
    "        - Current\n",
    "    - Company\n",
    "        - Historical Average (2 Years)\n",
    "- P/B ratio\n",
    "    - Market\n",
    "        - Current\n",
    "    - Industry\n",
    "        - Current\n",
    "    - Company\n",
    "        - Historical Average\n",
    "\n",
    "#### OUTPUT\n",
    "- Cheapness/ Richness Compared to Overall Market\n",
    "- Cheapness/ Richness Compared to Specific Industry\n",
    "- Cheapness/ Richness Compared to Company Historical Data\n"
   ]
  },
  {
   "cell_type": "code",
   "execution_count": null,
   "metadata": {},
   "outputs": [],
   "source": [
    "'''\n",
    "EVALUATE RICHNESS/ CHEAPNESS\n",
    "'''\n",
    "\n",
    "# CODE GOES HERE"
   ]
  },
  {
   "cell_type": "markdown",
   "metadata": {},
   "source": [
    "## STEP 5: OUTLINE TRENDS REGARDING SALES, PROFIT MARGINS, EARNINGS PER SHARE, AND DIVIDENDS\n",
    "\n",
    "The market for a specific security is heavily influenced by short-term and long-term trends. Research has shown that once news about a company are released, the company stock exhibits positive autocorrelation over a specific time period . Hence, these trends can give investors an idea of future price developments and specific numbers he or she might want to follow.\n",
    "\n",
    "**Total Sales:** Total sales describe the top line of a company’s income statement. It is derived by multiplying the number of units sold with the unit price. Sales are very important for younger companies that try to increase their market share. It measures the responsiveness of the company’s customers to its offerings.\n",
    "\n",
    "**Net Profit Margin:** Profits measure how efficiently a company can turn its sales into cash available for reinvestment in the company or for distribution to shareholders. While a company with high sales figures might be interesting, it matters how much money it has to spend to create these sales figures. The profit margin divides total sales by net profits.\n",
    "\n",
    "**Earnings per Share:** Earnings per share measure how much of the firm’s profits would – theoretically – be available to the owner of one share of stock. The ratio is derived by dividing total profits by the number of total shares outstanding.\n",
    "\n",
    "**Dividends per Share:** Dividends include cash distributions to shareholders. Dividends are taken from the company’s profits and are the part of profits that are not reinvested in the company. Research has shown that dividend cuts lead to a massive decrease in share prices.\n",
    "\n",
    "#### INPUT\n",
    "- Total Sales\n",
    "    - Current\n",
    "    - Historical\n",
    "        - 3 Years\n",
    "- Net Profit Margin\n",
    "    - Current\n",
    "    - Historical\n",
    "        - 3 Years\n",
    "- Earnings per Share\n",
    "    - Current\n",
    "    - Historical\n",
    "        - 3 Years\n",
    "- Dividends per Share\n",
    "    - Current\n",
    "    - Historical\n",
    "        - 3 Years\n",
    "\n",
    "#### OUTPUT\n",
    "- Trends in Sales\n",
    "- Trends in Net Profit Margins\n",
    "- Trends in Earnings per Share\n",
    "- Trends in Dividends per Share"
   ]
  },
  {
   "cell_type": "code",
   "execution_count": null,
   "metadata": {},
   "outputs": [],
   "source": [
    "'''\n",
    "OUTLINE TRENDS\n",
    "'''\n",
    "\n",
    "# CODE GOES HERE"
   ]
  },
  {
   "cell_type": "markdown",
   "metadata": {},
   "source": [
    "## STEP 7: CREATE FILE AND SEND THE USER\n",
    "\n",
    "#### INPUT\n",
    "- Above Output\n",
    "\n",
    "#### OUTPUT\n",
    "- File Summary\n",
    "    - Send to User"
   ]
  },
  {
   "cell_type": "code",
   "execution_count": null,
   "metadata": {},
   "outputs": [],
   "source": [
    "'''\n",
    "CREATE AND SEND FILE\n",
    "'''\n",
    "\n",
    "# CODE GOES HERE\n",
    "import smtplib\n",
    "\n",
    "content = \"\"\n",
    "\n",
    "mail = smtplib.SMTP(\"smtp.gmail.com\",587)\n",
    "\n",
    "mail.helo()\n",
    "\n",
    "mail.starttls()\n",
    "\n",
    "mail.login(\"michaellarkin1998@gmail.com\",\"littlelarkin12\")\n",
    "\n",
    "mail.sendmail(\"michaellarkin1998@gmail.com\",\"reciever\",content)\n",
    "\n",
    "mail.close"
   ]
  },
  {
   "cell_type": "code",
   "execution_count": null,
   "metadata": {},
   "outputs": [],
   "source": []
  }
 ],
 "metadata": {
  "kernelspec": {
   "display_name": "Python 3",
   "language": "python",
   "name": "python3"
  },
  "language_info": {
   "codemirror_mode": {
    "name": "ipython",
    "version": 3
   },
   "file_extension": ".py",
   "mimetype": "text/x-python",
   "name": "python",
   "nbconvert_exporter": "python",
   "pygments_lexer": "ipython3",
   "version": "3.6.6"
  }
 },
 "nbformat": 4,
 "nbformat_minor": 2
}
